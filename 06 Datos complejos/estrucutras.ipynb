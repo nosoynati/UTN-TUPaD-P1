{
 "cells": [
  {
   "cell_type": "code",
   "execution_count": 10,
   "id": "c8b6b96c",
   "metadata": {},
   "outputs": [
    {
     "name": "stdout",
     "output_type": "stream",
     "text": [
      "Frase original: Nos fuimos. a la plaza de martin de la plaza plaza.\n",
      "Palabras que se repiten: {'la': 2, 'plaza': 3, 'de': 2}\n",
      "Sin repetidas: {'a', 'la', 'plaza', 'Nos', 'de', 'fuimos', 'martin'}\n"
     ]
    }
   ],
   "source": [
    "#5) Solicita al usuario una frase e imprime: Las palabras únicas (usando un set). \n",
    "#  Un diccionario con la cantidad de veces que aparece cada palabra.\n",
    "\n",
    "frase = \"Nos fuimos. a la plaza de martin de la plaza plaza.\"\n",
    "frase_copy = [x.strip(\".\") for x in frase.split(\" \")]\n",
    "\n",
    "palabras_repetidas = {}\n",
    "leng = len(frase_copy)\n",
    "count = 0\n",
    "for i in range(leng):\n",
    "    palabra = frase_copy[i]\n",
    "    if frase_copy.count(palabra) > 1:\n",
    "        count = frase_copy.count(palabra)\n",
    "        palabras_repetidas[palabra] = count\n",
    " \n",
    "frase_set = set(frase_copy)\n",
    "print(f\"Frase original: {frase}\")\n",
    "print(f\"Palabras que se repiten: {palabras_repetidas}\")\n",
    "print(f\"Sin repetidas: {frase_set}\")\n",
    "\n"
   ]
  },
  {
   "cell_type": "code",
   "execution_count": 11,
   "id": "bb1d3718",
   "metadata": {},
   "outputs": [
    {
     "name": "stdout",
     "output_type": "stream",
     "text": [
      "0\n"
     ]
    }
   ],
   "source": [
    "let = \"asd asd dff\"\n",
    "letro = [\"asd\",\"asd\",\"dfff\"]\n",
    "print(letro.count(\"asds\"))"
   ]
  },
  {
   "cell_type": "code",
   "execution_count": 12,
   "id": "d433e850",
   "metadata": {},
   "outputs": [
    {
     "ename": "KeyboardInterrupt",
     "evalue": "Interrupted by user",
     "output_type": "error",
     "traceback": [
      "\u001b[1;31m---------------------------------------------------------------------------\u001b[0m",
      "\u001b[1;31mKeyboardInterrupt\u001b[0m                         Traceback (most recent call last)",
      "Cell \u001b[1;32mIn[12], line 25\u001b[0m\n\u001b[0;32m     22\u001b[0m         agenda[nombre] \u001b[38;5;241m=\u001b[39m num\n\u001b[0;32m     23\u001b[0m         i \u001b[38;5;241m+\u001b[39m\u001b[38;5;241m=\u001b[39m \u001b[38;5;241m1\u001b[39m\n\u001b[1;32m---> 25\u001b[0m \u001b[43mpedir_datos\u001b[49m\u001b[43m(\u001b[49m\u001b[38;5;241;43m3\u001b[39;49m\u001b[43m)\u001b[49m\n\u001b[0;32m     26\u001b[0m \u001b[38;5;28mprint\u001b[39m(agenda)\n\u001b[0;32m     28\u001b[0m \u001b[38;5;28;01mdef\u001b[39;00m \u001b[38;5;21mbuscar_agenda\u001b[39m(nombre):\n",
      "Cell \u001b[1;32mIn[12], line 17\u001b[0m, in \u001b[0;36mpedir_datos\u001b[1;34m(stop)\u001b[0m\n\u001b[0;32m     15\u001b[0m i \u001b[38;5;241m=\u001b[39m \u001b[38;5;241m0\u001b[39m\n\u001b[0;32m     16\u001b[0m \u001b[38;5;28;01mwhile\u001b[39;00m i \u001b[38;5;241m<\u001b[39m stop:\n\u001b[1;32m---> 17\u001b[0m     nombre \u001b[38;5;241m=\u001b[39m \u001b[38;5;28;43minput\u001b[39;49m\u001b[43m(\u001b[49m\u001b[38;5;124;43m\"\u001b[39;49m\u001b[38;5;124;43mNombre del contacto\u001b[39;49m\u001b[38;5;124;43m\"\u001b[39;49m\u001b[43m)\u001b[49m\n\u001b[0;32m     18\u001b[0m     \u001b[38;5;28;01mwhile\u001b[39;00m checkearnombre(agenda,nombre):\n\u001b[0;32m     19\u001b[0m         \u001b[38;5;28mprint\u001b[39m(\u001b[38;5;124m\"\u001b[39m\u001b[38;5;124mEse nombre ya existe\u001b[39m\u001b[38;5;124m\"\u001b[39m)\n",
      "File \u001b[1;32m~\\AppData\\Roaming\\Python\\Python312\\site-packages\\ipykernel\\kernelbase.py:1282\u001b[0m, in \u001b[0;36mKernel.raw_input\u001b[1;34m(self, prompt)\u001b[0m\n\u001b[0;32m   1280\u001b[0m     msg \u001b[38;5;241m=\u001b[39m \u001b[38;5;124m\"\u001b[39m\u001b[38;5;124mraw_input was called, but this frontend does not support input requests.\u001b[39m\u001b[38;5;124m\"\u001b[39m\n\u001b[0;32m   1281\u001b[0m     \u001b[38;5;28;01mraise\u001b[39;00m StdinNotImplementedError(msg)\n\u001b[1;32m-> 1282\u001b[0m \u001b[38;5;28;01mreturn\u001b[39;00m \u001b[38;5;28;43mself\u001b[39;49m\u001b[38;5;241;43m.\u001b[39;49m\u001b[43m_input_request\u001b[49m\u001b[43m(\u001b[49m\n\u001b[0;32m   1283\u001b[0m \u001b[43m    \u001b[49m\u001b[38;5;28;43mstr\u001b[39;49m\u001b[43m(\u001b[49m\u001b[43mprompt\u001b[49m\u001b[43m)\u001b[49m\u001b[43m,\u001b[49m\n\u001b[0;32m   1284\u001b[0m \u001b[43m    \u001b[49m\u001b[38;5;28;43mself\u001b[39;49m\u001b[38;5;241;43m.\u001b[39;49m\u001b[43m_parent_ident\u001b[49m\u001b[43m[\u001b[49m\u001b[38;5;124;43m\"\u001b[39;49m\u001b[38;5;124;43mshell\u001b[39;49m\u001b[38;5;124;43m\"\u001b[39;49m\u001b[43m]\u001b[49m\u001b[43m,\u001b[49m\n\u001b[0;32m   1285\u001b[0m \u001b[43m    \u001b[49m\u001b[38;5;28;43mself\u001b[39;49m\u001b[38;5;241;43m.\u001b[39;49m\u001b[43mget_parent\u001b[49m\u001b[43m(\u001b[49m\u001b[38;5;124;43m\"\u001b[39;49m\u001b[38;5;124;43mshell\u001b[39;49m\u001b[38;5;124;43m\"\u001b[39;49m\u001b[43m)\u001b[49m\u001b[43m,\u001b[49m\n\u001b[0;32m   1286\u001b[0m \u001b[43m    \u001b[49m\u001b[43mpassword\u001b[49m\u001b[38;5;241;43m=\u001b[39;49m\u001b[38;5;28;43;01mFalse\u001b[39;49;00m\u001b[43m,\u001b[49m\n\u001b[0;32m   1287\u001b[0m \u001b[43m\u001b[49m\u001b[43m)\u001b[49m\n",
      "File \u001b[1;32m~\\AppData\\Roaming\\Python\\Python312\\site-packages\\ipykernel\\kernelbase.py:1325\u001b[0m, in \u001b[0;36mKernel._input_request\u001b[1;34m(self, prompt, ident, parent, password)\u001b[0m\n\u001b[0;32m   1322\u001b[0m \u001b[38;5;28;01mexcept\u001b[39;00m \u001b[38;5;167;01mKeyboardInterrupt\u001b[39;00m:\n\u001b[0;32m   1323\u001b[0m     \u001b[38;5;66;03m# re-raise KeyboardInterrupt, to truncate traceback\u001b[39;00m\n\u001b[0;32m   1324\u001b[0m     msg \u001b[38;5;241m=\u001b[39m \u001b[38;5;124m\"\u001b[39m\u001b[38;5;124mInterrupted by user\u001b[39m\u001b[38;5;124m\"\u001b[39m\n\u001b[1;32m-> 1325\u001b[0m     \u001b[38;5;28;01mraise\u001b[39;00m \u001b[38;5;167;01mKeyboardInterrupt\u001b[39;00m(msg) \u001b[38;5;28;01mfrom\u001b[39;00m \u001b[38;5;28;01mNone\u001b[39;00m\n\u001b[0;32m   1326\u001b[0m \u001b[38;5;28;01mexcept\u001b[39;00m \u001b[38;5;167;01mException\u001b[39;00m:\n\u001b[0;32m   1327\u001b[0m     \u001b[38;5;28mself\u001b[39m\u001b[38;5;241m.\u001b[39mlog\u001b[38;5;241m.\u001b[39mwarning(\u001b[38;5;124m\"\u001b[39m\u001b[38;5;124mInvalid Message:\u001b[39m\u001b[38;5;124m\"\u001b[39m, exc_info\u001b[38;5;241m=\u001b[39m\u001b[38;5;28;01mTrue\u001b[39;00m)\n",
      "\u001b[1;31mKeyboardInterrupt\u001b[0m: Interrupted by user"
     ]
    }
   ],
   "source": [
    "#4) Escribí un programa que permita almacenar y consultar números telefónicos.\n",
    "# Permití al usuario cargar 5 contactos con su nombre como clave y número como valor.\n",
    "# Luego, pedí un nombre y mostrale el número asociado, si existe.\n",
    "\n",
    "agenda = {\n",
    "    # \"angie\":3735789012,\n",
    "    # \"papi\":3735446243,\n",
    "    # \"lucho\":3621436712,\n",
    "    # \"fer\":113456234\n",
    "}\n",
    "def checkearnombre(d,nombre=\"Anon\"):\n",
    "    return nombre in d\n",
    "\n",
    "def pedir_datos(stop):\n",
    "    i = 0\n",
    "    while i < stop:\n",
    "        nombre = input(\"Nombre del contacto\")\n",
    "        while checkearnombre(agenda,nombre):\n",
    "            print(\"Ese nombre ya existe\")\n",
    "            nombre = input(\"Nombre del contacto\")\n",
    "        num = int(input(\"Numero: \"))\n",
    "        agenda[nombre] = num\n",
    "        i += 1\n",
    "\n",
    "pedir_datos(3)\n",
    "print(agenda)\n",
    "\n",
    "def buscar_agenda(nombre):\n",
    "    nombre = nombre.lower()\n",
    "    if nombre not in agenda:\n",
    "        print(\"No encontrado\")\n",
    " \n",
    "    for key,value in agenda.items():\n",
    "        if nombre in key:\n",
    "            print(f\"{nombre}: Nro: {value}\")\n",
    "\n",
    "def pedir_nombre():\n",
    "    x = input(\"Buscar: \")\n",
    "    return x\n",
    "\n",
    "nombre = pedir_nombre()\n",
    "buscar_agenda(nombre)"
   ]
  },
  {
   "cell_type": "code",
   "execution_count": null,
   "id": "6550771c",
   "metadata": {},
   "outputs": [
    {
     "name": "stdout",
     "output_type": "stream",
     "text": [
      "[34, 36, 40]\n",
      "[(1991, 34), (1989, 34), (1985, 34), (1991, 36), (1989, 36), (1985, 36), (1991, 40), (1989, 40), (1985, 40)]\n"
     ]
    }
   ],
   "source": [
    "from datetime import datetime\n",
    "years = [1991, 1989, 1985]\n",
    "\n",
    "date = [datetime.now().year-i for i in years]\n",
    "\n",
    "pares_ordenados = []\n",
    "for k in date:\n",
    "    for j in years:\n",
    "        tup = j,k\n",
    "        pares_ordenados.append(tup)    \n",
    "\n",
    "print(date)\n",
    "print(pares_ordenados)"
   ]
  },
  {
   "cell_type": "code",
   "execution_count": null,
   "id": "2d9d1eea",
   "metadata": {},
   "outputs": [],
   "source": []
  },
  {
   "cell_type": "code",
   "execution_count": null,
   "id": "4fe7f310",
   "metadata": {},
   "outputs": [],
   "source": [
    "#6) Permití ingresar los nombres de 3 alumnos, y para cada uno una tupla de 3 notas. \n",
    "# Luego, mostrá el promedio de cada alumno.\n",
    "\n",
    "def ingresar_nombres():\n",
    "    alumnos = []\n",
    "    print(\"Ingresar un alumno, presione [X] para terminar.\")\n",
    "    n = input(\"Ingersar un nombre: \")\n",
    "    while True:\n",
    "        dic = {}\n",
    "        if n.lower == \"x\":\n",
    "            break\n",
    "     \n",
    "        dic[\"nombre\"] = n\n",
    "        notas = []\n",
    "        for i in range(1,4):\n",
    "            nota = int(input(f\"Ingresar nota {i}:\"))\n",
    "            notas.append(nota)\n",
    "             \n",
    "        dic[\"notas\"] = tuple(notas)\n",
    "        alumnos.append(dic)\n",
    "    return alumnos\n",
    "\n",
    "def calcular_promedio():\n",
    "    x = ingresar_nombres()\n",
    "    for item in x:\n",
    "        notas = item[\"notas\"]\n",
    "        promedio = round(sum(notas) / len(notas), 2)\n",
    "        item[\"promedio\"] = promedio \n",
    "    return x\n",
    "\n",
    "print(calcular_promedio())"
   ]
  },
  {
   "cell_type": "code",
   "execution_count": null,
   "id": "d3d6ab66",
   "metadata": {},
   "outputs": [],
   "source": [
    "alumnos = [{\"nombre\": \"asd\", \"notas\": (1, 2, 3), \"promedio\": \"\"},{\"nombre\":\"sdujhf\", \"notas\":(2,4,6), \"promedio\":\"\"}]\n",
    "print(alumnos)\n",
    "for key,value in alumnos[0].items():\n",
    "    print(key)\n",
    "\n",
    "print(alumnos[1][\"nombre\"], alumnos[1][\"notas\"])"
   ]
  }
 ],
 "metadata": {
  "kernelspec": {
   "display_name": "Python 3",
   "language": "python",
   "name": "python3"
  },
  "language_info": {
   "codemirror_mode": {
    "name": "ipython",
    "version": 3
   },
   "file_extension": ".py",
   "mimetype": "text/x-python",
   "name": "python",
   "nbconvert_exporter": "python",
   "pygments_lexer": "ipython3",
   "version": "3.12.6"
  }
 },
 "nbformat": 4,
 "nbformat_minor": 5
}
